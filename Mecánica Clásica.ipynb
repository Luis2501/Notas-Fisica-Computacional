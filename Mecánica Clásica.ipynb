{
 "cells": [
  {
   "cell_type": "markdown",
   "metadata": {},
   "source": [
    "# Mecánica Clásica"
   ]
  },
  {
   "cell_type": "markdown",
   "metadata": {},
   "source": [
    "Aunque el método de Euler y todos los otros métoso que veamos se pueden utilizar para cualquier sistema de ecuaciones diferenciales ordinarias, en la física computacional, las ecuaciones más comunes a resolver son las ecuaciones de movimiento de Mecánica Clásica. En la mecánica clásica, describimos el movimiento de un objeto especificando su posición espacial a través de alguna coordenada ($x$,$y$, $r$, $\\theta$) como función del tiempo $t$.\n",
    "\n",
    "\n",
    "Las coordenadas de nuestro objeto son funciones del tiempo. Las ecuaciones de movimiento son las ecuaciones diferenciales que obedecen dichas coordenadas de nuestro objeto. Existe diversas formas de obtener las ecuaciones de movimiento (las más importantes siendo la mecánica Newtoniana, Lagrangiana o Hamiltoniana) para un sistema de interés. \n",
    "\n",
    "\n",
    "Independientemente del método que utilizemos para obtener las ecuaciones, siempre (solo no se cumple en casos muy particulares) siempre llegamos a ecuaciones diferenciales de segundo orden para cada una de las coordenadas, que se pueden convertir en sistemas de dos ecuaciones de primer orden para cada coordenada. Para muchos sistemas interesantes, como el péndulo real, péndulo doble o un sistema de $n$ cuerpos, es imposible encontrar una expresión analítica para las coordenadas. Así, estamos forzados a utilizar métodos numéricos para la solución."
   ]
  },
  {
   "cell_type": "markdown",
   "metadata": {},
   "source": [
    "Algunos ejemplos importantes de sistemas de mecánica son:\n",
    "\n",
    "\n",
    "- **Péndulo real con resistencia del aire lineal**\n",
    "\n",
    "Tenemos un objeto de masa $m$ pegado a una cuerda sin masa, de longitud constante $l$, sujeto a un campo gravitatorio con aceleración constante $g$ y que forma un ángulo $\\theta (t)$ respecto al eje $y$ negativo, como se muestra en la siguiente figura\n",
    "\n",
    ">Imagen\n",
    "\n",
    "El ángulo $\\theta$ obedece la siguiente ecuación de movimiento\n",
    "\n",
    "$$\\frac{d^2 \\theta}{dt^{2}} = -\\gamma \\frac{d \\theta}{dt} - \\frac{g}{l} \\sin \\theta$$\n",
    "\n",
    "con $\\gamma > 0$ una constante.\n",
    "\n",
    "- **Tiro parabólico con resistencia del aire lineal**\n",
    "\n",
    "Tenemos un objeto de masa $m$ en dos dimensiones, descrito por sus coordenadas cartesianas $r(t) = (x(t),y(t))$. EL objeto tiene una velocidad incial $v_0 = (v_{x0}, v_{y0})$ con $v_{x0} >0$ y $v_{y0} > 0$.\n",
    "\n",
    ">Imagen\n",
    "\n",
    "La resistencia del aire se puede modelar de forma lineal como una fuerza proporcional a la velocidad:\n",
    "\n",
    "$$F_{aire} = -bv(t) = - b \\frac{dr}{dt}$$\n",
    "\n",
    "con $b > 0$ una constante positiva. Así, se obtiene las siguientes ecuaciones de movimiento para cada coordenada:\n",
    "\n",
    "$$\\frac{d^{2} x}{dt^{2}} = - \\frac{b}{m} \\frac{dx}{dt}$$\n",
    "\n",
    "$$\\frac{d^{2} y}{dt^{2}} = - g - \\frac{b}{m} \\frac{dy}{dt}$$\n",
    "\n",
    "- Tiro parabólico con resistencia del aire cuadrático\n",
    "\n",
    "Si tenemos exactamente el mismo sistema pero ahora modelamos la resistencia del aire como\n",
    "\n",
    "$$F_{aire} = -c |v(t)| ^{2} \\hat{v(t)}$$\n",
    "\n",
    "$$ = -c \\sqrt{ \\left( \\frac{dx}{dt} \\right)^2 + \\left( \\frac{dy}{dt} \\right)^2 }$$\n",
    "\n",
    "Con $c>0$ una constante postiva. Obtenemos ahora las siguiente ecuaciones de movimiento para las coordenadas\n",
    "\n",
    "$$\\frac{d^{2} x}{dt^{2}} =  -\\frac{c}{m} \\sqrt{ \\left( \\frac{dx}{dt} \\right)^2 + \\left( \\frac{dy}{dt} \\right)^2 }$$\n",
    "\n",
    "$$\\frac{d^{2} y}{dt^{2}} = - g -\\frac{c}{m} \\sqrt{ \\left( \\frac{dx}{dt} \\right)^2 + \\left( \\frac{dy}{dt} \\right)^2 }$$\n"
   ]
  },
  {
   "cell_type": "markdown",
   "metadata": {},
   "source": [
    "## Ejercicio \n",
    "\n",
    "Convertir las ecuaciones de movimiento anteriores en sistemas de ecuaciones de primer orden."
   ]
  }
 ],
 "metadata": {
  "hide_input": false,
  "kernelspec": {
   "display_name": "Python 3",
   "language": "python",
   "name": "python3"
  },
  "language_info": {
   "codemirror_mode": {
    "name": "ipython",
    "version": 3
   },
   "file_extension": ".py",
   "mimetype": "text/x-python",
   "name": "python",
   "nbconvert_exporter": "python",
   "pygments_lexer": "ipython3",
   "version": "3.8.3"
  }
 },
 "nbformat": 4,
 "nbformat_minor": 4
}
