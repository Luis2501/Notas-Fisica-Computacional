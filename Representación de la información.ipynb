{
 "cells": [
  {
   "cell_type": "markdown",
   "metadata": {},
   "source": [
    "# Composición de una computadora y representación de la información \n",
    "\n",
    "_____________________________________\n",
    "\n",
    "\n",
    "Las computadoras se puede pensar para como máquina que realiza cálculos o computos. Una computadora moderna tiene una arquitectura más compleja. La aqrquitectura de una computadora se basa en la arquitectura de Von Neumann.\n",
    "\n",
    "\n",
    "Esta arquitectura de manera simple recibe un conjunto de datos (**input data**) y devuelve un conjunto de datos (**output data**) después de realizar operaciones lógicas.\n",
    "\n",
    "\n",
    "- Memoria: lugar donde se almacena el programa y los datos usados por él, incluidos el input o el output.\n",
    "\n",
    "- Unidad Aritmética Lógica (ALU): lugar donde se realizan operaciones entre objetos almacenados en la memoria.\n",
    "\n",
    "- Unidad de control: coordina las operaciones de la memoria, ALU y el sistema de entrada y salida.\n",
    "\n",
    "- Sistema de entrada y salida: mecanismo que acepta datos como input y envia algunos output.\n",
    "\n",
    "\n",
    "La arquitectura de Von Neumann solo es conceptual y nos permite definir como estará diseñada la memoria, como accederemos a ella, que operaciones puede realizar el ALU, como coordina las coosas la unidad de control, y muchas otras cosas. \n",
    "\n",
    "\n",
    "Aunque una computadora moderna no son exactamente de  esta arquitectura, pero tienen una forma similar. \n",
    "\n",
    "- Memoria: memoria RAM\n",
    "- ALU y unidad de control: CPU\n",
    "- Sistema de entra y salida: periféricos y CPU\n"
   ]
  },
  {
   "cell_type": "markdown",
   "metadata": {},
   "source": [
    "## ¿Cómo realizar un cómputo en la arquitectura de Von Neumann?\n",
    "\n",
    "Necesitamos dos cosas:\n",
    "\n",
    "- Especificar el programa, es decir, las operaciones a arealizar en el input en términos de las operaciones posible en el ALU.\n",
    "\n",
    "- Especificar el input en la memoria.\n",
    "\n",
    "### Especificación del input\n",
    "\n",
    "Representar el input en la memoria depende de la estructura de la memoria. Por simplicidad y consistencia con el modelo de la máquina de acceso aleatoria para computar, la mayoria de memorias tienen una estructura binaria: muchos contenedores ordenados y distinguidos que puede estar en dos estados,\n",
    "\n",
    "> Definimos un **bit** como un contenedor en una memoria tal que el contenedor solo puede tener dos valores disntintos, que denotaremos 0s y 1s\n",
    "\n",
    "Ya que la mayoria de operaciones que queremos realizar en una computaora no son sobre objetos binarios, si no sobre objetos más complejos, debemos **codificar** esas estructuras en algo binario. A una estructura computacional diseñada para almacenar un dato codificado le llamamos tipo.\n",
    "\n",
    "### Representación de valores binarios\n",
    "\n",
    "Un bit puede codificar de manera trivial dos valores distintos, los cuales pueden representar los valores de verdad de una proposición (verdadero 1 y falso 0). Los valores binarios puede ser útiles para realizar operaciones con lógica."
   ]
  }
 ],
 "metadata": {
  "hide_input": false,
  "kernelspec": {
   "display_name": "Python 3",
   "language": "python",
   "name": "python3"
  },
  "language_info": {
   "codemirror_mode": {
    "name": "ipython",
    "version": 3
   },
   "file_extension": ".py",
   "mimetype": "text/x-python",
   "name": "python",
   "nbconvert_exporter": "python",
   "pygments_lexer": "ipython3",
   "version": "3.8.3"
  }
 },
 "nbformat": 4,
 "nbformat_minor": 4
}
