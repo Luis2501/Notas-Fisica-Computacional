{
 "cells": [
  {
   "cell_type": "markdown",
   "metadata": {},
   "source": [
    "# Ecuaciones diferenciales ordinarias\n"
   ]
  },
  {
   "cell_type": "markdown",
   "metadata": {},
   "source": [
    "Como es sabido en la historia de la computación, uno de los problemas que motivo más fuertemente la construcción de computadoras digitales programables fue la de solucionar las ecuaciones diferenciales ordinarias que describen la trayectoria de misiles balísticos (esto claro, durante la segunda guerra mundial).  \n",
    "\n",
    "\n",
    "Dichas ecuaciones, asi como muchas otras ecuaciiones diferenciales ordinarias, son imposibles de resolver analíticamente, por lo que la única manera de resolverlas es acudir a métodos numéricos que nos permitan obtener una solución aproximada al problema.  \n",
    "\n",
    "Existen libros enteros y cursos también, dedicados al estudio de la solución numérica de ecuaciones diferenciales tanto ordinarias como parciales."
   ]
  },
  {
   "cell_type": "markdown",
   "metadata": {},
   "source": [
    "## Preludio Computacional 1: prealocación de memoria de arreglos"
   ]
  },
  {
   "cell_type": "markdown",
   "metadata": {},
   "source": [
    "Durante el curso, hemos en muchas ocasiones, construido arreglos que representan a los elementos de una sucesión, **iniciando con un arreglo que contiene un elemento  añadiendole elementos uno a uno**. Esto se puede ya que, como ya mencionamos anteriormente, los arreglos en Python son **dinámicos** .  \n",
    "\n",
    "\n",
    "En general, es mala idea tratar con arreglos dinámicos pues es computacionalmente costoso ir asignado o alocando memoria a elementos nuevos. Lo más conveniente, de ser posible, es construir un arreglo de la longitud que necesitemos desde un incio. Así podemos tratar al arreglo de manera estática, solo cambiamos sus elementos a nuestro gusto pero no cambiamos su longitud.\n",
    "\n",
    "En Python tenemos este tipo de arreglos:\n",
    "\n",
    "- La función `zeros(n)` crea un arreglo 1D de longitud $n$ en la que cada elemento es un $0$\n",
    "- La función `ones(n)` crea un arreglo 1D de longitud $n$ en la que cada elemento es un $1$"
   ]
  },
  {
   "cell_type": "code",
   "execution_count": 2,
   "metadata": {},
   "outputs": [
    {
     "name": "stdout",
     "output_type": "stream",
     "text": [
      "Tamaño en bytes de arreglo dinámico:  56\n",
      "Tamaño en bytes de arreglo numpy dinámico:  96\n",
      "Tamaño en bytes de arreglo numpy estático:  136\n"
     ]
    }
   ],
   "source": [
    "import numpy as np \n",
    "from sys import getsizeof\n",
    "from timeit import default_timer\n",
    "from time import time\n",
    "\n",
    "x = []\n",
    "y = np.array([], dtype = np.float32)\n",
    "z = np.zeros(10, dtype = np.float32)\n",
    "\n",
    "print(\"Tamaño en bytes de arreglo dinámico: \", getsizeof(x))\n",
    "print(\"Tamaño en bytes de arreglo numpy dinámico: \", getsizeof(y))\n",
    "print(\"Tamaño en bytes de arreglo numpy estático: \", getsizeof(z))"
   ]
  },
  {
   "cell_type": "markdown",
   "metadata": {},
   "source": [
    "Podemos usar la prealocación a la hora de construir sucesiones recursivas como las que usamos en la mayoria de métodos numéricos. "
   ]
  },
  {
   "cell_type": "code",
   "execution_count": 11,
   "metadata": {},
   "outputs": [
    {
     "name": "stdout",
     "output_type": "stream",
     "text": [
      "[ 1  1  2  3  5  8 13 21 34 55]\n"
     ]
    }
   ],
   "source": [
    "def fibonacci(n):\n",
    "    \n",
    "    final = np.zeros(n, dtype = np.int64)\n",
    "    final[0], final[1] = 1, 1\n",
    "    \n",
    "    for i in range(2, n):\n",
    "        \n",
    "        final[i] = final[i -1] + final[i-2]\n",
    "        \n",
    "    return final\n",
    "\n",
    "print(fibonacci(10))"
   ]
  },
  {
   "cell_type": "markdown",
   "metadata": {},
   "source": [
    "## Preludio Computacional 2: tuplas"
   ]
  },
  {
   "cell_type": "markdown",
   "metadata": {},
   "source": [
    "Hasta ahora, hemos trabajado con objetos iterables como listas, arreglos y rangos, los cuales se pueden describir a grandes rasgos como sucesiones ordenadas de objetos. Sabemos que, en caso de las listas y los arreglos podemos cambiar sus elementos"
   ]
  },
  {
   "cell_type": "code",
   "execution_count": 117,
   "metadata": {},
   "outputs": [
    {
     "name": "stdout",
     "output_type": "stream",
     "text": [
      "['Luis', 'Eduardo', 'Ana']\n"
     ]
    }
   ],
   "source": [
    "nombres = [\"Luis\", \"José\", \"Ana\"]\n",
    "nombres[1] = \"Eduardo\"\n",
    "print(nombres)"
   ]
  },
  {
   "cell_type": "markdown",
   "metadata": {},
   "source": [
    "Podemos cambiar sus entradas por que las listas y los arreglos son **objetos mutables**, es decir, que pueden cambiar sus elementos. Existen objetos **no mutables** que también representan sucesiones de objetos pero que no podemos cambiar sus elementos. Dichos objetos son **tuplas** (de tipo `Tuple` en Python). Una tupla se define con la siguiente sintaxis\n",
    "\n",
    "``tup1 = (objt1, objt2)``"
   ]
  },
  {
   "cell_type": "code",
   "execution_count": 119,
   "metadata": {},
   "outputs": [
    {
     "name": "stdout",
     "output_type": "stream",
     "text": [
      "('Luis', 'José', 'Ana')\n",
      "<class 'tuple'>\n"
     ]
    }
   ],
   "source": [
    "tupNombres = (\"Luis\", \"José\", \"Ana\")\n",
    "print(tupNombres)\n",
    "print(type(tupNombres))"
   ]
  },
  {
   "cell_type": "code",
   "execution_count": 120,
   "metadata": {},
   "outputs": [
    {
     "ename": "TypeError",
     "evalue": "'tuple' object does not support item assignment",
     "output_type": "error",
     "traceback": [
      "\u001b[0;31m---------------------------------------------------------------------------\u001b[0m",
      "\u001b[0;31mTypeError\u001b[0m                                 Traceback (most recent call last)",
      "\u001b[0;32m<ipython-input-120-c8eb7231d40b>\u001b[0m in \u001b[0;36m<module>\u001b[0;34m\u001b[0m\n\u001b[1;32m      1\u001b[0m \u001b[0;31m# Si intentamos cambiar un elemento tendremos un error\u001b[0m\u001b[0;34m\u001b[0m\u001b[0;34m\u001b[0m\u001b[0;34m\u001b[0m\u001b[0m\n\u001b[1;32m      2\u001b[0m \u001b[0;34m\u001b[0m\u001b[0m\n\u001b[0;32m----> 3\u001b[0;31m \u001b[0mtupNombres\u001b[0m\u001b[0;34m[\u001b[0m\u001b[0;36m0\u001b[0m\u001b[0;34m]\u001b[0m \u001b[0;34m=\u001b[0m \u001b[0;34m\"Eduardo\"\u001b[0m\u001b[0;34m\u001b[0m\u001b[0;34m\u001b[0m\u001b[0m\n\u001b[0m",
      "\u001b[0;31mTypeError\u001b[0m: 'tuple' object does not support item assignment"
     ]
    }
   ],
   "source": [
    "# Si intentamos cambiar un elemento tendremos un error\n",
    "\n",
    "tupNombres[0] = \"Eduardo\""
   ]
  },
  {
   "cell_type": "markdown",
   "metadata": {},
   "source": [
    "La función `len()` funciona de igual manera "
   ]
  },
  {
   "cell_type": "code",
   "execution_count": 121,
   "metadata": {},
   "outputs": [
    {
     "name": "stdout",
     "output_type": "stream",
     "text": [
      "3\n"
     ]
    }
   ],
   "source": [
    "print(len(tupNombres))"
   ]
  },
  {
   "cell_type": "markdown",
   "metadata": {},
   "source": [
    "## Preludio computacional 3: productos cartesianos"
   ]
  },
  {
   "cell_type": "markdown",
   "metadata": {},
   "source": [
    "En las siguientes clases trabajaremos con objetos como campos vectoriales y otros análogos, los cuales viven en espacios de varias dimensiones.\n",
    "\n",
    "\n",
    "Muchas veces nos va a interesar poder obtener el producto cartesiano de dos arreglos, es decir, un objeto de la forma\n",
    "\n",
    "$$\\{ (x,y) \\; | \\; x \\in xs, \\; \\; y \\in ys  \\}$$\n",
    "\n",
    "\n",
    "Podemos utilizar compresión de arreglos en Python para crear ese arreglo con la siguiente sintaxis\n",
    "\n",
    "```python\n",
    "prodCart = [[x,y] for x in xs for y in ys]\n",
    "```"
   ]
  },
  {
   "cell_type": "code",
   "execution_count": 127,
   "metadata": {},
   "outputs": [
    {
     "name": "stdout",
     "output_type": "stream",
     "text": [
      "[[1, 8], [1, 9], [2, 8], [2, 9], [3, 8], [3, 9]]\n"
     ]
    }
   ],
   "source": [
    "#Ejemplo simple\n",
    "xs = [1,2,3]\n",
    "ys = [8,9]\n",
    "\n",
    "prodCart = [[x,y] for x in xs for y in ys]\n",
    "\n",
    "print(prodCart)"
   ]
  },
  {
   "cell_type": "markdown",
   "metadata": {},
   "source": [
    "Además podemos hacer esto mismo con tuplas:"
   ]
  },
  {
   "cell_type": "code",
   "execution_count": 8,
   "metadata": {},
   "outputs": [
    {
     "name": "stdout",
     "output_type": "stream",
     "text": [
      "[(1, 8), (1, 9), (2, 8), (2, 9), (3, 8), (3, 9)]\n"
     ]
    }
   ],
   "source": [
    "#Ejemplo simple\n",
    "xs = [1,2,3]\n",
    "ys = [8,9]\n",
    "\n",
    "prodCart = [(x,y) for x in xs for y in ys]\n",
    "\n",
    "print(prodCart)"
   ]
  },
  {
   "cell_type": "markdown",
   "metadata": {},
   "source": [
    "## Preludio matemático: Ecuaciones diferenciales"
   ]
  },
  {
   "cell_type": "markdown",
   "metadata": {},
   "source": [
    "Sea $x(t): I \\subseteq \\mathbb{R}  \\rightarrow \\mathbb{R} $ una función de clase $C^{1}$, es decir, una función derivable en todo $I$ con derivada continua en $I$. Una ecuación diferencial de primer orden es una ecuación **funcional** de la siguiente forma\n",
    "\n",
    "$$ \\frac{dx}{dt} = f(x(t), t)$$\n",
    "\n",
    "Notemos que, a diferencia de una ecuación algebraica donde las variables representan números o miembros de algún otra estructura algebraica \"simple\" (vectores, matrices, etc) que solo operan con operadores algebraicos como suma, producto, etc, en una ecuación diferencial algunas variables representan **funciones**.\n",
    "\n",
    "\n",
    "Más aun las operaciones que se les realizan a nuestros objetos no son operaciones algebraicas simples si no operaciones más delicadas, una derivada o la aplicación de una función arbitraria.\n",
    "\n",
    "La técnica más estándar para resolver una ecuación diferencial consiste en utilizar el teorema fundamental del cálculo para integrar ambos lados de la ecuacipon respecto al tiempo. Sin embargo, a la hora de realizar dicha integración, es probable que surgan **constantes de integración**. Para poder determinar dichas constantes, será necesario tener una condición sobre la función $x$, es decir, conocer un punto en el que sepamos su valor.\n",
    "\n",
    "$$x(t_i) = C$$"
   ]
  },
  {
   "cell_type": "markdown",
   "metadata": {},
   "source": [
    "### Problemas de valores iniciales"
   ]
  },
  {
   "cell_type": "markdown",
   "metadata": {},
   "source": [
    "Aunque el punto $t_i$ puede ser un punto arbitrario del dominio de la función, en general, lo que tenemos que es que ese tiempo es un tiempo que llamamos **inicial** y denotamos $t_0$ y la solución $x(t)$ nos interesa conocerla para tiempos $t> t_{0}$ Cuando ese es el caso decimos que tenemos un **problema de valores iniciales** descrito por las dos ecuaciones\n",
    "\n",
    "$$ \\left\\{ \\begin{array}{lcc}\n",
    "             \\frac{dx}{dt} = f(x(t),t) \\\\\n",
    "             \\\\ x(t_0) = x_0 \\\\\n",
    "             \\end{array}\n",
    "   \\right.$$"
   ]
  },
  {
   "cell_type": "markdown",
   "metadata": {},
   "source": [
    "### Campo de direcciones o \"retrato fase\" "
   ]
  },
  {
   "cell_type": "markdown",
   "metadata": {},
   "source": [
    "Antes de resolver una ecuación diferencial, podemos darnos una idea del comportamiento que tendrán las soluciones si graficamos el campo de direcciones o retrato fase de la curva: el campo vectorial de las pendientes de las funciones que son solución a la ecuación diferencial pero no necesariamente a la condición incial. Dicho campo corresponde al campo vectorial $P: \\mathbb{R} ^{2} \\rightarrow \\mathbb{R} ^{2}$ definido por \n",
    "\n",
    "$$P(t,x) = (1, f(x,t))$$\n",
    "\n",
    "En Python podemos graficar un campo vectorial utilizando la función `quiver` del paquete Matplotlib. La sintaxis es\n",
    "\n",
    "```Python\n",
    "quiver(xs,ys)\n",
    "```\n",
    "\n",
    "La función hace una gráfica consistente en flechas entre los puntos `(xs[i], ys[i])`"
   ]
  },
  {
   "cell_type": "code",
   "execution_count": 12,
   "metadata": {
    "scrolled": true
   },
   "outputs": [
    {
     "data": {
      "image/png": "[encoded data removed]",
      "text/plain": [
       "<Figure size 460.8x403.2 with 1 Axes>"
      ]
     },
     "metadata": {},
     "output_type": "display_data"
    }
   ],
   "source": [
    "import matplotlib.pyplot as plt\n",
    "\n",
    "from jupyterthemes import jtplot\n",
    "\n",
    "jtplot.style()\n",
    "\n",
    "x,y = np.arange(-1, 1, 0.1), np.arange(-1, 1, 0.1)\n",
    "X,Y  = np.meshgrid(x, y)\n",
    "\n",
    "U = np.ones((len(X), len(X)) )\n",
    "V = Y\n",
    "\n",
    "fig, ax = plt.subplots()\n",
    "q = ax.quiver(X, Y, U, V)\n",
    "ax.set_xlim(-1,1)\n",
    "ax.set_ylim(0,1)\n",
    "\n",
    "plt.show()"
   ]
  },
  {
   "cell_type": "markdown",
   "metadata": {},
   "source": [
    "## El método de Euler"
   ]
  },
  {
   "cell_type": "markdown",
   "metadata": {},
   "source": [
    "El método más sencillo para resolver numéricamente un problema de valores inciales es el método de Euler, que consiste en aproximar la derivada $\\dot{x}$ con una diferencia finita hacia adelante. Así, obtenemos\n",
    "\n",
    "$$\\frac{x(t +h) - x(t)}{h} = f(x,t)$$\n",
    "\n",
    "Despejando encontramos que \n",
    "\n",
    "$$x(t + h) = x(t) + h \\; f(x,t)$$\n",
    "\n",
    "Es claro que, si conocemos $x(t_0) = x_{0}$ y $t_0$ esta regla nos permite calcular $x(t_0 + h)$ y también $t_{0} + h$, posteriormente podemos calcular $x(t_0 + 2h)$ y así sucesivamente para obtener $x(t_{0} + kh)$ para cualquier $k$. Planteandolo en términos de una sucesión recursiva, sea $t_{k} = t + kh$ entonces $x_k : = x(t_{k})$, entonces la sucesión recursiva del método de Euler es\n",
    "\n",
    "$$ x_k = \\left\\{ \\begin{array}{lcc}\n",
    "             x_0 & k=0 \\\\\n",
    "             \\\\ x_{k-1} + h f(x_{k-1},t_{k-1}) & k>0 \\\\\n",
    "             \\end{array}\n",
    "   \\right.$$\n",
    "\n",
    "\n",
    ">Notemos que esto solo nos dará los valores de $x(t)$ en un montón de tiempos discretos $t_{k}, k \\in \\mathbb{N}$. Todos los métodos numéricos para EDO regresan la solución como un conjunto de puntos discretos. Si nosotros insitieramos en querer conocer, en lugar de puntos discretos, la función completa, podriamos utilizar interpolación para convertir los puntos discretos en una función"
   ]
  },
  {
   "cell_type": "markdown",
   "metadata": {},
   "source": [
    "## Ejercicio 1"
   ]
  },
  {
   "cell_type": "code",
   "execution_count": 16,
   "metadata": {},
   "outputs": [],
   "source": [
    "def f(x,t):\n",
    "    \n",
    "    return x\n",
    "\n",
    "def Euler(t, tf, dt, x):\n",
    "    \n",
    "    tt = [t]\n",
    "    xx = [x]\n",
    "    \n",
    "    while t <= tf:\n",
    "        \n",
    "        x = x + dt*f(x,t)\n",
    "        t += dt\n",
    "        xx.append(x)\n",
    "        tt.append(t)\n",
    "        \n",
    "    return tt, xx    "
   ]
  },
  {
   "cell_type": "markdown",
   "metadata": {},
   "source": [
    "Ahora utilizamos esta función para resolver las siguientes ecuaciones\n",
    "\n",
    "$$\\dot{x} = x$$"
   ]
  },
  {
   "cell_type": "code",
   "execution_count": 19,
   "metadata": {},
   "outputs": [
    {
     "data": {
      "image/png": "[encoded data removed]",
      "text/plain": [
       "<Figure size 460.8x403.2 with 1 Axes>"
      ]
     },
     "metadata": {},
     "output_type": "display_data"
    }
   ],
   "source": [
    "def Sol_Anali(t):\n",
    "\n",
    "    return np.exp(t)\n",
    "\n",
    "t, x1 = Euler(0,4,0.01, 1)\n",
    "\n",
    "x2 = Sol_Anali(t)\n",
    "\n",
    "plt.plot(t,x1, label= \"Numérica\")\n",
    "plt.plot(t,x2, label = \"Analítica\")\n",
    "plt.legend()\n",
    "plt.show()"
   ]
  },
  {
   "cell_type": "markdown",
   "metadata": {},
   "source": [
    "## Ecuaciones de orden mayor: reducción"
   ]
  },
  {
   "cell_type": "markdown",
   "metadata": {},
   "source": [
    "En la practica del dia a dia, en particular en la física, por lo general tratamos con ecuaciones diferenciales de orden mayor a uno. En general, una ecuación diferencial de orden $k es una  "
   ]
  }
 ],
 "metadata": {
  "hide_input": false,
  "kernelspec": {
   "display_name": "Python 3",
   "language": "python",
   "name": "python3"
  },
  "language_info": {
   "codemirror_mode": {
    "name": "ipython",
    "version": 3
   },
   "file_extension": ".py",
   "mimetype": "text/x-python",
   "name": "python",
   "nbconvert_exporter": "python",
   "pygments_lexer": "ipython3",
   "version": "3.8.3"
  }
 },
 "nbformat": 4,
 "nbformat_minor": 4
}
